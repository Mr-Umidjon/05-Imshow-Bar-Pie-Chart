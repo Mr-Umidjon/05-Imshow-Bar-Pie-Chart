{
 "nbformat": 4,
 "nbformat_minor": 0,
 "metadata": {
  "colab": {
   "name": "Nested_list_and_2D_array. Homework.ipynb",
   "provenance": [],
   "collapsed_sections": []
  },
  "kernelspec": {
   "name": "python3",
   "display_name": "Python 3"
  }
 },
 "cells": [
  {
   "cell_type": "code",
   "metadata": {
    "id": "-dShaND5jOlq"
   },
   "source": [
    "import matplotlib.pyplot as plt\n",
    "import math"
   ],
   "execution_count": 1,
   "outputs": []
  },
  {
   "cell_type": "code",
   "metadata": {
    "id": "vJlMcVcUjavh"
   },
   "source": [
    "def arr_chess(n: int) -> None:\n",
    "    '''\n",
    "    Draw a chessboard. board shape nxn\n",
    "\n",
    "    Args:\n",
    "      int: chess shape\n",
    "    returns:\n",
    "      list: Nested list\n",
    "    '''\n",
    "    arr = [[(i + j) % 2 for j in range(n)] for i in range(n)]\n",
    "    return arr"
   ],
   "execution_count": 5,
   "outputs": []
  },
  {
   "cell_type": "code",
   "source": [
    "chess_image_8x8 = arr_chess(8)\n",
    "plt.imshow(chess_image_8x8, cmap='gray')\n",
    "plt.show()"
   ],
   "metadata": {
    "colab": {
     "base_uri": "https://localhost:8080/",
     "height": 265
    },
    "id": "McfVhvpcvy6n",
    "outputId": "54aa69c5-8de5-4764-f032-5a37fe906f4d"
   },
   "execution_count": 6,
   "outputs": [
    {
     "data": {
      "text/plain": "<Figure size 432x288 with 1 Axes>",
      "image/png": "[encoded data removed]"
     },
     "metadata": {
      "needs_background": "light"
     },
     "output_type": "display_data"
    }
   ]
  },
  {
   "cell_type": "code",
   "source": [
    "chess_image_5x5 = arr_chess(5)\n",
    "plt.imshow(chess_image_5x5, cmap='gray')\n",
    "plt.show()"
   ],
   "metadata": {
    "colab": {
     "base_uri": "https://localhost:8080/",
     "height": 265
    },
    "id": "eeLhiU565l4R",
    "outputId": "3977747d-7458-4e6e-ca8a-5dbec3f8e07d"
   },
   "execution_count": 7,
   "outputs": [
    {
     "data": {
      "text/plain": "<Figure size 432x288 with 1 Axes>",
      "image/png": "[encoded data removed]"
     },
     "metadata": {
      "needs_background": "light"
     },
     "output_type": "display_data"
    }
   ]
  },
  {
   "cell_type": "code",
   "source": [
    "def rect_dioganal_right(column: list) -> list:\n",
    "    '''\n",
    "    Draw a diagonal to the right of the rectangle.\n",
    "    A diagonal of a rectangle cuts the rectangle into two right triangles.\n",
    "\n",
    "    Arg:\n",
    "      list: column empty list.\n",
    "    return:\n",
    "      list: Nested list\n",
    "    '''\n",
    "    for i in range(10):\n",
    "        arr = []\n",
    "        for j in range(10):\n",
    "            arr.append(int(i != j))\n",
    "        column.append(arr)\n",
    "    return column"
   ],
   "metadata": {
    "id": "Qyw0KVY81afB"
   },
   "execution_count": 14,
   "outputs": []
  },
  {
   "cell_type": "code",
   "source": [
    "rect_image1 = rect_dioganal_right(column=[])\n",
    "plt.imshow(rect_image1, cmap='gray')\n",
    "plt.show()"
   ],
   "metadata": {
    "colab": {
     "base_uri": "https://localhost:8080/",
     "height": 265
    },
    "id": "w41U9iOf2NDO",
    "outputId": "7bf584a1-3cf1-4a83-cfa9-2ce51b763809"
   },
   "execution_count": 15,
   "outputs": [
    {
     "data": {
      "text/plain": "<Figure size 432x288 with 1 Axes>",
      "image/png": "[encoded data removed]"
     },
     "metadata": {
      "needs_background": "light"
     },
     "output_type": "display_data"
    }
   ]
  },
  {
   "cell_type": "code",
   "source": [
    "def rect_dioganal_left(column: list) -> list:\n",
    "    '''\n",
    "    Draw a diagonal to the left of the rectangle.\n",
    "    A diagonal of a rectangle cuts the rectangle into two right triangles.\n",
    "\n",
    "    Arg:\n",
    "      list: column empty list.\n",
    "    return:\n",
    "      list: 2d list\n",
    "    '''\n",
    "    for i in range(10):\n",
    "        arr = []\n",
    "        for j in range(10):\n",
    "            arr.append(int((i + j) != 9))\n",
    "        column.append(arr)\n",
    "    return column"
   ],
   "metadata": {
    "id": "xIWvga0A2Vd5"
   },
   "execution_count": 19,
   "outputs": []
  },
  {
   "cell_type": "code",
   "source": [
    "rect_image2 = rect_dioganal_left(column=[])\n",
    "plt.imshow(rect_image2, cmap='gray')\n",
    "plt.show()"
   ],
   "metadata": {
    "colab": {
     "base_uri": "https://localhost:8080/",
     "height": 265
    },
    "id": "TieJVFhU2kN9",
    "outputId": "fc2e24fe-4d05-443b-9602-1a4afec4bb3c"
   },
   "execution_count": 20,
   "outputs": [
    {
     "data": {
      "text/plain": "<Figure size 432x288 with 1 Axes>",
      "image/png": "[encoded data removed]"
     },
     "metadata": {
      "needs_background": "light"
     },
     "output_type": "display_data"
    }
   ]
  },
  {
   "cell_type": "code",
   "metadata": {
    "id": "QqCk9U8IYAAv"
   },
   "source": [
    "def circle(column: list) -> list:\n",
    "    \"\"\"\n",
    "    Draw a circle using a 2D array\n",
    "    Args:\n",
    "      list: empty list\n",
    "    retruns:\n",
    "      list: 2D list\n",
    "    \"\"\"\n",
    "    r = 200\n",
    "    for i in range(500):\n",
    "        arr = []\n",
    "        for j in range(500):\n",
    "            point = ((255 - i) ** 2 + (255 - j) ** 2) ** 0.5\n",
    "            arr.append(int(r > point))\n",
    "        column.append(arr)\n",
    "    return column"
   ],
   "execution_count": 34,
   "outputs": []
  },
  {
   "cell_type": "code",
   "source": [
    "plt.imshow(circle([]), cmap='gray')\n",
    "plt.title('Circle', color='blue', pad=20)\n",
    "plt.show()"
   ],
   "metadata": {
    "colab": {
     "base_uri": "https://localhost:8080/",
     "height": 295
    },
    "id": "2Gei9-7h5CjH",
    "outputId": "0c94015d-2521-4136-cffe-76b809cac7ab"
   },
   "execution_count": 35,
   "outputs": [
    {
     "data": {
      "text/plain": "<Figure size 432x288 with 1 Axes>",
      "image/png": "[encoded data removed]"
     },
     "metadata": {
      "needs_background": "light"
     },
     "output_type": "display_data"
    }
   ]
  },
  {
   "cell_type": "code",
   "source": [
    "def full_circle(column: list) -> list:\n",
    "    \"\"\"\n",
    "    Draw a full circle using a 2D array\n",
    "    Args:\n",
    "      list: empty list\n",
    "    retruns:\n",
    "      list: 2D list\n",
    "    \"\"\"\n",
    "    r = 200\n",
    "    for i in range(500):\n",
    "        arr = []\n",
    "        for j in range(500):\n",
    "            point = ((250 - i) ** 2 + (250 - j) ** 2) ** 0.5\n",
    "            arr.append(int(r < point))\n",
    "        column.append(arr)\n",
    "    return column"
   ],
   "metadata": {
    "id": "_2yhkapZ3QvZ"
   },
   "execution_count": 36,
   "outputs": []
  },
  {
   "cell_type": "code",
   "source": [
    "plt.imshow(full_circle([]), cmap='gray')\n",
    "plt.title('Full circle inside', color='blue', pad=20)\n",
    "plt.show()"
   ],
   "metadata": {
    "colab": {
     "base_uri": "https://localhost:8080/",
     "height": 295
    },
    "id": "TF4xShYp3Wen",
    "outputId": "8bdfead9-6d6d-4aad-979d-df61f9620432"
   },
   "execution_count": 37,
   "outputs": [
    {
     "data": {
      "text/plain": "<Figure size 432x288 with 1 Axes>",
      "image/png": "[encoded data removed]"
     },
     "metadata": {
      "needs_background": "light"
     },
     "output_type": "display_data"
    }
   ]
  },
  {
   "cell_type": "code",
   "source": [
    "!git add \"Nested_list_and_2D_array_Homework.ipynb\""
   ],
   "metadata": {
    "id": "zPfRt_l84mUM"
   },
   "execution_count": null,
   "outputs": []
  }
 ]
}